{
 "cells": [
  {
   "cell_type": "code",
   "execution_count": 2,
   "metadata": {},
   "outputs": [],
   "source": [
    "\n",
    "\n",
    "#@title Data loading\n",
    "import os, requests\n",
    "\n",
    "fname = []\n",
    "for j in range(3):\n",
    "  fname.append('steinmetz_part%d.npz'%j)\n",
    "\n",
    "import numpy as np\n",
    "\n",
    "alldat = np.array([])\n",
    "for j in range(len(fname)):\n",
    "  alldat = np.hstack((alldat, np.load('steinmetz_part%d.npz'%j, allow_pickle=True)['dat']))"
   ]
  },
  {
   "cell_type": "code",
   "execution_count": 8,
   "metadata": {},
   "outputs": [],
   "source": [
    "import scipy\n",
    "import scipy.signal"
   ]
  },
  {
   "cell_type": "code",
   "execution_count": 9,
   "metadata": {},
   "outputs": [],
   "source": [
    "for i in range(39):\n",
    "    no = len(np.unique(alldat[i]['brain_area']))\n",
    "#     print('%02d %02d' %(i,no)) # 07, 12__15"
   ]
  },
  {
   "cell_type": "code",
   "execution_count": 10,
   "metadata": {},
   "outputs": [
    {
     "data": {
      "text/plain": [
       "(1156, 250, 250)"
      ]
     },
     "execution_count": 10,
     "metadata": {},
     "output_type": "execute_result"
    }
   ],
   "source": [
    "alldat[7]['spks'].shape"
   ]
  },
  {
   "cell_type": "code",
   "execution_count": 11,
   "metadata": {},
   "outputs": [],
   "source": [
    "def detrend_XYR(data):\n",
    "    data_detrend = scipy.signal.detrend(data, axis=-1, type='linear', bp=0, overwrite_data=False)\n",
    "    return data_detrend"
   ]
  },
  {
   "cell_type": "code",
   "execution_count": 12,
   "metadata": {
    "scrolled": true
   },
   "outputs": [],
   "source": [
    "areas = np.unique(alldat[7]['brain_area'])\n",
    "data = np.zeros((len(areas),250,250))\n",
    "data_detrend = np.zeros((len(areas),250,250))\n",
    "data_de_alltrial = np.zeros((len(areas),250*250))\n",
    "\n",
    "for i,area in enumerate(areas):\n",
    "    index = np.where(alldat[7]['brain_area'] == area)[0]\n",
    "    data[i] = np.mean(alldat[7]['spks'][index][1:100],axis=0)\n",
    "    data_detrend[i] = detrend_XYR(data[i])\n",
    "    data_de_alltrial[i] = detrend_XYR(data[i].flatten())"
   ]
  },
  {
   "cell_type": "code",
   "execution_count": 13,
   "metadata": {},
   "outputs": [
    {
     "name": "stderr",
     "output_type": "stream",
     "text": [
      "C:\\Users\\lenovo\\anaconda3\\lib\\site-packages\\sklearn\\utils\\deprecation.py:143: FutureWarning: The sklearn.ensemble.gradient_boosting module is  deprecated in version 0.22 and will be removed in version 0.24. The corresponding classes / functions should instead be imported from sklearn.ensemble. Anything that cannot be imported from sklearn.ensemble is now part of the private API.\n",
      "  warnings.warn(message, FutureWarning)\n"
     ]
    }
   ],
   "source": [
    "import numpy as np\n",
    "import pandas as pd\n",
    "from sklearn.linear_model import BayesianRidge, LinearRegression, ElasticNet\n",
    "from sklearn.svm import SVR\n",
    "from sklearn.ensemble.gradient_boosting import GradientBoostingRegressor   # 集成算法\n",
    "from sklearn.model_selection import cross_val_score    # 交叉验证\n",
    "from sklearn.metrics import explained_variance_score, mean_absolute_error, mean_squared_error, r2_score  \n",
    "import matplotlib.pyplot as plt\n",
    "import seaborn as sns\n",
    "import scipy \n",
    "import scipy.signal"
   ]
  },
  {
   "cell_type": "code",
   "execution_count": 14,
   "metadata": {},
   "outputs": [],
   "source": [
    "def Linear_regression_XYR(X,y,n_folds=5):\n",
    "    model = LinearRegression()\n",
    "    scores = cross_val_score(model, X, y, cv=n_folds)\n",
    "    pre_y=model.fit(X, y).predict(X)\n",
    "    tmp_score = mean_squared_error(y, pre_y)\n",
    "    return tmp_score"
   ]
  },
  {
   "cell_type": "code",
   "execution_count": 15,
   "metadata": {},
   "outputs": [],
   "source": [
    "def make_design_matrix_XYR(activity, d):\n",
    "    T = len(activity)  # Total number of timepoints (hint: number of stimulus frames)\n",
    "    X = np.zeros((T-d, d))\n",
    "    for t in range(T-d):\n",
    "        X[t,:] = activity[t:t+d]\n",
    "    return X"
   ]
  },
  {
   "cell_type": "code",
   "execution_count": 16,
   "metadata": {},
   "outputs": [],
   "source": [
    "def model_Fit_XYR(X,Y,unionLag,autoLag=10):\n",
    "    \n",
    "    auto_x = make_design_matrix_XYR(Y,autoLag)\n",
    "    auto_y = Y[autoLag:]\n",
    "    auto_sig = Linear_regression_XYR(auto_x,auto_y)\n",
    "    \n",
    "    union_x = np.column_stack([make_design_matrix_XYR(Y,unionLag),make_design_matrix_XYR(X,unionLag)])\n",
    "    union_y = Y[unionLag:]\n",
    "    union_sig = Linear_regression_XYR(union_x,union_y)\n",
    "    \n",
    "    return auto_sig, union_sig"
   ]
  },
  {
   "cell_type": "code",
   "execution_count": 17,
   "metadata": {},
   "outputs": [
    {
     "data": {
      "text/plain": [
       "\"\\nres_dic = {}\\n    \\ndef GC_main_XYR(data,variables,unionLags):\\n    # unionLags = range(50,100,5)\\n    for unionLag in unionLags:\\n        df_F = pd.DataFrame(np.zeros((len(variables), len(variables))), columns=variables, index=variables)\\n        df_P = pd.DataFrame(np.zeros((len(variables), len(variables))), columns=variables, index=variables)\\n        for i in range(len(variables)):\\n            for j in range(len(variables)):\\n                auto_sig, union_sig = model_Fit_XYR(data[i,:].flatten(),data[j,:].flatten(),unionLag)\\n                df_F.loc[variables[i],variables[j]] = auto_sig/union_sig\\n                df_P.loc[variables[i],variables[j]] = 1-scipy.stats.f.cdf(df_F.loc[variables[i],variables[j]], len(data)-auto_sig+1, len(data)-union_sig+1)\\n        res_dic['%03d' %(unionLag)] = {'F':df_F,'p':df_P}\\n    return res_dic\\n\""
      ]
     },
     "execution_count": 17,
     "metadata": {},
     "output_type": "execute_result"
    }
   ],
   "source": [
    "\"\"\"\n",
    "res_dic = {}\n",
    "    \n",
    "def GC_main_XYR(data,variables,unionLags):\n",
    "    # unionLags = range(50,100,5)\n",
    "    for unionLag in unionLags:\n",
    "        df_F = pd.DataFrame(np.zeros((len(variables), len(variables))), columns=variables, index=variables)\n",
    "        df_P = pd.DataFrame(np.zeros((len(variables), len(variables))), columns=variables, index=variables)\n",
    "        for i in range(len(variables)):\n",
    "            for j in range(len(variables)):\n",
    "                auto_sig, union_sig = model_Fit_XYR(data[i,:].flatten(),data[j,:].flatten(),unionLag)\n",
    "                df_F.loc[variables[i],variables[j]] = auto_sig/union_sig\n",
    "                df_P.loc[variables[i],variables[j]] = 1-scipy.stats.f.cdf(df_F.loc[variables[i],variables[j]], len(data)-auto_sig+1, len(data)-union_sig+1)\n",
    "        res_dic['%03d' %(unionLag)] = {'F':df_F,'p':df_P}\n",
    "    return res_dic\n",
    "\"\"\""
   ]
  },
  {
   "cell_type": "code",
   "execution_count": 18,
   "metadata": {},
   "outputs": [],
   "source": [
    "def GC_main_XYR(data,variables,unionLag):\n",
    "    #unionLags = range(50,100,5)\n",
    "    #res_dic = {}\n",
    "    df_F = pd.DataFrame(np.zeros((len(variables), len(variables))), columns=variables, index=variables)\n",
    "    df_P = pd.DataFrame(np.zeros((len(variables), len(variables))), columns=variables, index=variables)\n",
    "    for i in range(len(variables)):\n",
    "        for j in range(len(variables)):\n",
    "            auto_sig, union_sig = model_Fit_XYR(data[i,:].flatten(),data[j,:].flatten(),unionLag)\n",
    "            df_F.loc[variables[i],variables[j]] = auto_sig/union_sig\n",
    "            df_P.loc[variables[i],variables[j]] = 1-scipy.stats.f.cdf(df_F.loc[variables[i],variables[j]], len(data)-auto_sig+1, len(data)-union_sig+1)\n",
    "    res_dic = {'F':df_F,'p':df_P}\n",
    "    return res_dic"
   ]
  },
  {
   "cell_type": "code",
   "execution_count": 19,
   "metadata": {},
   "outputs": [],
   "source": [
    "#unionLags = range(40,50,5)\n",
    "#res=GC_main_XYR(data_detrend[:,0,:],areas,unionLags)\n",
    "#res['045']['F']"
   ]
  },
  {
   "cell_type": "code",
   "execution_count": null,
   "metadata": {},
   "outputs": [],
   "source": []
  },
  {
   "cell_type": "code",
   "execution_count": 20,
   "metadata": {},
   "outputs": [],
   "source": [
    "#order_dic = {}\n",
    "#for i in range(len(areas)):\n",
    "#    for j in range(len(areas)):\n",
    "#        fvalue = [res['%03d' %(unionLag)]['F'].loc[areas[i],areas[j]] for unionLag in unionLags]\n",
    "#        order = 20+5*np.argmin(-1*np.array(fvalue))\n",
    "#        order_dic[areas[i]+'_'+areas[j]]=order "
   ]
  },
  {
   "cell_type": "markdown",
   "metadata": {},
   "source": [
    "基本都是45阶，所以干脆全部用45分析。"
   ]
  },
  {
   "cell_type": "code",
   "execution_count": 65,
   "metadata": {},
   "outputs": [],
   "source": [
    "\n",
    "per_trial = []\n",
    "for i in range(250):\n",
    "    per_trial.append(GC_main_XYR(data_detrend[:,i,:],areas,45)['F'])"
   ]
  },
  {
   "cell_type": "code",
   "execution_count": 66,
   "metadata": {},
   "outputs": [],
   "source": [
    "a = per_trial[0]"
   ]
  },
  {
   "cell_type": "code",
   "execution_count": 67,
   "metadata": {},
   "outputs": [
    {
     "data": {
      "text/plain": [
       "<AxesSubplot:>"
      ]
     },
     "execution_count": 67,
     "metadata": {},
     "output_type": "execute_result"
    },
    {
     "data": {
      "image/png": "[encoded data removed]",
      "text/plain": [
       "<Figure size 432x288 with 2 Axes>"
      ]
     },
     "metadata": {
      "needs_background": "light"
     },
     "output_type": "display_data"
    }
   ],
   "source": [
    "import seaborn\n",
    "import networkx as nx\n",
    "from networkx import from_numpy_array, draw_networkx,eigenvector_centrality, average_shortest_path_length, harmonic_centrality, global_efficiency\n",
    "\n",
    "from matplotlib.pyplot import figure\n",
    "#figure(figsize=(6, 5), dpi=80)\n",
    "\n",
    "\n",
    "seaborn.heatmap(a)"
   ]
  },
  {
   "cell_type": "code",
   "execution_count": 68,
   "metadata": {},
   "outputs": [],
   "source": [
    "np.save('GC_matrix', np.array(per_trial))"
   ]
  },
  {
   "cell_type": "code",
   "execution_count": null,
   "metadata": {},
   "outputs": [],
   "source": []
  }
 ],
 "metadata": {
  "kernelspec": {
   "display_name": "Python 3",
   "language": "python",
   "name": "python3"
  },
  "language_info": {
   "codemirror_mode": {
    "name": "ipython",
    "version": 3
   },
   "file_extension": ".py",
   "mimetype": "text/x-python",
   "name": "python",
   "nbconvert_exporter": "python",
   "pygments_lexer": "ipython3",
   "version": "3.8.5"
  }
 },
 "nbformat": 4,
 "nbformat_minor": 4
}
